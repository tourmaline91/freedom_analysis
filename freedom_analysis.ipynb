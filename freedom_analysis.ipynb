{
 "cells": [
  {
   "cell_type": "code",
   "execution_count": 2,
   "metadata": {},
   "outputs": [],
   "source": [
    "import numpy as np\n",
    "import pandas as pd\n",
    "import matplotlib.pyplot as plt\n",
    "import seaborn as sns; sns.set()\n",
    "%matplotlib inline"
   ]
  },
  {
   "cell_type": "code",
   "execution_count": 3,
   "metadata": {},
   "outputs": [
    {
     "data": {
      "text/html": [
       "<div>\n",
       "<style scoped>\n",
       "    .dataframe tbody tr th:only-of-type {\n",
       "        vertical-align: middle;\n",
       "    }\n",
       "\n",
       "    .dataframe tbody tr th {\n",
       "        vertical-align: top;\n",
       "    }\n",
       "\n",
       "    .dataframe thead th {\n",
       "        text-align: right;\n",
       "    }\n",
       "</style>\n",
       "<table border=\"1\" class=\"dataframe\">\n",
       "  <thead>\n",
       "    <tr style=\"text-align: right;\">\n",
       "      <th></th>\n",
       "      <th>CountryID</th>\n",
       "      <th>Country Name</th>\n",
       "      <th>WEBNAME</th>\n",
       "      <th>Region</th>\n",
       "      <th>World Rank</th>\n",
       "      <th>Region Rank</th>\n",
       "      <th>2019 Score</th>\n",
       "      <th>Property Rights</th>\n",
       "      <th>Judical Effectiveness</th>\n",
       "      <th>Government Integrity</th>\n",
       "      <th>...</th>\n",
       "      <th>Country</th>\n",
       "      <th>Population (Millions)</th>\n",
       "      <th>GDP (Billions, PPP)</th>\n",
       "      <th>GDP Growth Rate (%)</th>\n",
       "      <th>5 Year GDP Growth Rate (%)</th>\n",
       "      <th>GDP per Capita (PPP)</th>\n",
       "      <th>Unemployment (%)</th>\n",
       "      <th>Inflation (%)</th>\n",
       "      <th>FDI Inflow (Millions)</th>\n",
       "      <th>Public Debt (% of GDP)</th>\n",
       "    </tr>\n",
       "  </thead>\n",
       "  <tbody>\n",
       "    <tr>\n",
       "      <th>0</th>\n",
       "      <td>1</td>\n",
       "      <td>Afghanistan</td>\n",
       "      <td>Afghanistan</td>\n",
       "      <td>Asia-Pacific</td>\n",
       "      <td>152.0</td>\n",
       "      <td>39.0</td>\n",
       "      <td>51.5</td>\n",
       "      <td>19.6</td>\n",
       "      <td>29.6</td>\n",
       "      <td>25.2</td>\n",
       "      <td>...</td>\n",
       "      <td>Afghanistan</td>\n",
       "      <td>35.5</td>\n",
       "      <td>$69.6</td>\n",
       "      <td>2.5</td>\n",
       "      <td>2.9</td>\n",
       "      <td>$1,958</td>\n",
       "      <td>8.8</td>\n",
       "      <td>5.0</td>\n",
       "      <td>53.9</td>\n",
       "      <td>7.3</td>\n",
       "    </tr>\n",
       "    <tr>\n",
       "      <th>1</th>\n",
       "      <td>2</td>\n",
       "      <td>Albania</td>\n",
       "      <td>Albania</td>\n",
       "      <td>Europe</td>\n",
       "      <td>52.0</td>\n",
       "      <td>27.0</td>\n",
       "      <td>66.5</td>\n",
       "      <td>54.8</td>\n",
       "      <td>30.6</td>\n",
       "      <td>40.4</td>\n",
       "      <td>...</td>\n",
       "      <td>Albania</td>\n",
       "      <td>2.9</td>\n",
       "      <td>$36.0</td>\n",
       "      <td>3.9</td>\n",
       "      <td>2.5</td>\n",
       "      <td>$12,507</td>\n",
       "      <td>13.9</td>\n",
       "      <td>2.0</td>\n",
       "      <td>1,119.1</td>\n",
       "      <td>71.2</td>\n",
       "    </tr>\n",
       "    <tr>\n",
       "      <th>2</th>\n",
       "      <td>3</td>\n",
       "      <td>Algeria</td>\n",
       "      <td>Algeria</td>\n",
       "      <td>Middle East and North Africa</td>\n",
       "      <td>171.0</td>\n",
       "      <td>14.0</td>\n",
       "      <td>46.2</td>\n",
       "      <td>31.6</td>\n",
       "      <td>36.2</td>\n",
       "      <td>28.9</td>\n",
       "      <td>...</td>\n",
       "      <td>Algeria</td>\n",
       "      <td>41.5</td>\n",
       "      <td>$632.9</td>\n",
       "      <td>2.0</td>\n",
       "      <td>3.1</td>\n",
       "      <td>$15,237</td>\n",
       "      <td>10.0</td>\n",
       "      <td>5.6</td>\n",
       "      <td>1,203.0</td>\n",
       "      <td>25.8</td>\n",
       "    </tr>\n",
       "    <tr>\n",
       "      <th>3</th>\n",
       "      <td>4</td>\n",
       "      <td>Angola</td>\n",
       "      <td>Angola</td>\n",
       "      <td>Sub-Saharan Africa</td>\n",
       "      <td>156.0</td>\n",
       "      <td>33.0</td>\n",
       "      <td>50.6</td>\n",
       "      <td>35.9</td>\n",
       "      <td>26.6</td>\n",
       "      <td>20.5</td>\n",
       "      <td>...</td>\n",
       "      <td>Angola</td>\n",
       "      <td>28.2</td>\n",
       "      <td>$190.3</td>\n",
       "      <td>0.7</td>\n",
       "      <td>2.9</td>\n",
       "      <td>$6,753</td>\n",
       "      <td>8.2</td>\n",
       "      <td>31.7</td>\n",
       "      <td>-2,254.5</td>\n",
       "      <td>65.3</td>\n",
       "    </tr>\n",
       "    <tr>\n",
       "      <th>4</th>\n",
       "      <td>5</td>\n",
       "      <td>Argentina</td>\n",
       "      <td>Argentina</td>\n",
       "      <td>Americas</td>\n",
       "      <td>148.0</td>\n",
       "      <td>26.0</td>\n",
       "      <td>52.2</td>\n",
       "      <td>47.8</td>\n",
       "      <td>44.5</td>\n",
       "      <td>33.5</td>\n",
       "      <td>...</td>\n",
       "      <td>Argentina</td>\n",
       "      <td>44.1</td>\n",
       "      <td>$920.2</td>\n",
       "      <td>2.9</td>\n",
       "      <td>0.7</td>\n",
       "      <td>$20,876</td>\n",
       "      <td>8.7</td>\n",
       "      <td>25.7</td>\n",
       "      <td>11,857.0</td>\n",
       "      <td>52.6</td>\n",
       "    </tr>\n",
       "  </tbody>\n",
       "</table>\n",
       "<p>5 rows × 34 columns</p>\n",
       "</div>"
      ],
      "text/plain": [
       "   CountryID Country Name      WEBNAME                        Region  \\\n",
       "0          1  Afghanistan  Afghanistan                  Asia-Pacific   \n",
       "1          2      Albania      Albania                        Europe   \n",
       "2          3      Algeria      Algeria  Middle East and North Africa   \n",
       "3          4       Angola       Angola            Sub-Saharan Africa   \n",
       "4          5    Argentina    Argentina                      Americas   \n",
       "\n",
       "   World Rank  Region Rank  2019 Score  Property Rights  \\\n",
       "0       152.0         39.0        51.5             19.6   \n",
       "1        52.0         27.0        66.5             54.8   \n",
       "2       171.0         14.0        46.2             31.6   \n",
       "3       156.0         33.0        50.6             35.9   \n",
       "4       148.0         26.0        52.2             47.8   \n",
       "\n",
       "   Judical Effectiveness  Government Integrity           ...            \\\n",
       "0                   29.6                  25.2           ...             \n",
       "1                   30.6                  40.4           ...             \n",
       "2                   36.2                  28.9           ...             \n",
       "3                   26.6                  20.5           ...             \n",
       "4                   44.5                  33.5           ...             \n",
       "\n",
       "       Country  Population (Millions)  GDP (Billions, PPP)  \\\n",
       "0  Afghanistan                   35.5               $69.6    \n",
       "1      Albania                    2.9               $36.0    \n",
       "2      Algeria                   41.5              $632.9    \n",
       "3       Angola                   28.2              $190.3    \n",
       "4    Argentina                   44.1              $920.2    \n",
       "\n",
       "   GDP Growth Rate (%)  5 Year GDP Growth Rate (%)  GDP per Capita (PPP)  \\\n",
       "0                  2.5                         2.9                $1,958   \n",
       "1                  3.9                         2.5               $12,507   \n",
       "2                  2.0                         3.1               $15,237   \n",
       "3                  0.7                         2.9                $6,753   \n",
       "4                  2.9                         0.7               $20,876   \n",
       "\n",
       "   Unemployment (%)  Inflation (%)  FDI Inflow (Millions)  \\\n",
       "0               8.8            5.0                   53.9   \n",
       "1              13.9            2.0                1,119.1   \n",
       "2              10.0            5.6                1,203.0   \n",
       "3               8.2           31.7               -2,254.5   \n",
       "4               8.7           25.7               11,857.0   \n",
       "\n",
       "   Public Debt (% of GDP)  \n",
       "0                     7.3  \n",
       "1                    71.2  \n",
       "2                    25.8  \n",
       "3                    65.3  \n",
       "4                    52.6  \n",
       "\n",
       "[5 rows x 34 columns]"
      ]
     },
     "execution_count": 3,
     "metadata": {},
     "output_type": "execute_result"
    }
   ],
   "source": [
    "data = pd.read_csv(\"econ_data.csv\", encoding = \"ISO-8859-1\")\n",
    "data.head()"
   ]
  },
  {
   "cell_type": "markdown",
   "metadata": {},
   "source": [
    "# Which countries are the most free, and which are the least free?\n",
    "\n",
    "We begin our analysis by answering the following question: Which countries are the most/least free. To answer this, we simply take the top/bottom countries sorted by the 'World Rank' column."
   ]
  },
  {
   "cell_type": "code",
   "execution_count": 4,
   "metadata": {},
   "outputs": [
    {
     "data": {
      "text/html": [
       "<div>\n",
       "<style scoped>\n",
       "    .dataframe tbody tr th:only-of-type {\n",
       "        vertical-align: middle;\n",
       "    }\n",
       "\n",
       "    .dataframe tbody tr th {\n",
       "        vertical-align: top;\n",
       "    }\n",
       "\n",
       "    .dataframe thead th {\n",
       "        text-align: right;\n",
       "    }\n",
       "</style>\n",
       "<table border=\"1\" class=\"dataframe\">\n",
       "  <thead>\n",
       "    <tr style=\"text-align: right;\">\n",
       "      <th></th>\n",
       "      <th>Country Name</th>\n",
       "      <th>2019 Score</th>\n",
       "    </tr>\n",
       "  </thead>\n",
       "  <tbody>\n",
       "    <tr>\n",
       "      <th>72</th>\n",
       "      <td>Hong Kong</td>\n",
       "      <td>90.2</td>\n",
       "    </tr>\n",
       "    <tr>\n",
       "      <th>149</th>\n",
       "      <td>Singapore</td>\n",
       "      <td>89.4</td>\n",
       "    </tr>\n",
       "    <tr>\n",
       "      <th>122</th>\n",
       "      <td>New Zealand</td>\n",
       "      <td>84.4</td>\n",
       "    </tr>\n",
       "    <tr>\n",
       "      <th>160</th>\n",
       "      <td>Switzerland</td>\n",
       "      <td>81.9</td>\n",
       "    </tr>\n",
       "    <tr>\n",
       "      <th>6</th>\n",
       "      <td>Australia</td>\n",
       "      <td>80.9</td>\n",
       "    </tr>\n",
       "  </tbody>\n",
       "</table>\n",
       "</div>"
      ],
      "text/plain": [
       "    Country Name  2019 Score\n",
       "72     Hong Kong        90.2\n",
       "149    Singapore        89.4\n",
       "122  New Zealand        84.4\n",
       "160  Switzerland        81.9\n",
       "6      Australia        80.9"
      ]
     },
     "execution_count": 4,
     "metadata": {},
     "output_type": "execute_result"
    }
   ],
   "source": [
    "# Get the five countries with the highest freedom index scores.\n",
    "data.nsmallest(5, 'World Rank')[['Country Name', '2019 Score']]"
   ]
  },
  {
   "cell_type": "code",
   "execution_count": 5,
   "metadata": {},
   "outputs": [
    {
     "data": {
      "text/html": [
       "<div>\n",
       "<style scoped>\n",
       "    .dataframe tbody tr th:only-of-type {\n",
       "        vertical-align: middle;\n",
       "    }\n",
       "\n",
       "    .dataframe tbody tr th {\n",
       "        vertical-align: top;\n",
       "    }\n",
       "\n",
       "    .dataframe thead th {\n",
       "        text-align: right;\n",
       "    }\n",
       "</style>\n",
       "<table border=\"1\" class=\"dataframe\">\n",
       "  <thead>\n",
       "    <tr style=\"text-align: right;\">\n",
       "      <th></th>\n",
       "      <th>Country Name</th>\n",
       "      <th>2019 Score</th>\n",
       "    </tr>\n",
       "  </thead>\n",
       "  <tbody>\n",
       "    <tr>\n",
       "      <th>88</th>\n",
       "      <td>Korea, North</td>\n",
       "      <td>5.9</td>\n",
       "    </tr>\n",
       "    <tr>\n",
       "      <th>181</th>\n",
       "      <td>Venezuela</td>\n",
       "      <td>25.9</td>\n",
       "    </tr>\n",
       "    <tr>\n",
       "      <th>42</th>\n",
       "      <td>Cuba</td>\n",
       "      <td>27.8</td>\n",
       "    </tr>\n",
       "    <tr>\n",
       "      <th>53</th>\n",
       "      <td>Eritrea</td>\n",
       "      <td>38.9</td>\n",
       "    </tr>\n",
       "    <tr>\n",
       "      <th>38</th>\n",
       "      <td>Congo, Republic of</td>\n",
       "      <td>39.7</td>\n",
       "    </tr>\n",
       "  </tbody>\n",
       "</table>\n",
       "</div>"
      ],
      "text/plain": [
       "           Country Name  2019 Score\n",
       "88        Korea, North          5.9\n",
       "181           Venezuela        25.9\n",
       "42                 Cuba        27.8\n",
       "53              Eritrea        38.9\n",
       "38   Congo, Republic of        39.7"
      ]
     },
     "execution_count": 5,
     "metadata": {},
     "output_type": "execute_result"
    }
   ],
   "source": [
    "# Get the five countries with the lowest freedom index scores.\n",
    "data.nlargest(5, 'World Rank')[['Country Name', '2019 Score']]"
   ]
  },
  {
   "cell_type": "markdown",
   "metadata": {},
   "source": [
    "From the above, we see that Hong Kong has the highest freedom index score, and North Korea has the lowest. This provides a good starting point for further analysis. Generally, we ask: What do the countries with the highest/lowest freedom index have in common? To start, we look at the correlation between the economic indicators present in the data. This analysis is done below:"
   ]
  },
  {
   "cell_type": "markdown",
   "metadata": {},
   "source": [
    "# Correlation analysis - what makes free countries free?"
   ]
  },
  {
   "cell_type": "code",
   "execution_count": 6,
   "metadata": {},
   "outputs": [
    {
     "data": {
      "text/plain": [
       "Index(['CountryID', 'Country Name', 'WEBNAME', 'Region', 'World Rank',\n",
       "       'Region Rank', '2019 Score', 'Property Rights', 'Judical Effectiveness',\n",
       "       'Government Integrity', 'Tax Burden', 'Gov't Spending', 'Fiscal Health',\n",
       "       'Business Freedom', 'Labor Freedom', 'Monetary Freedom',\n",
       "       'Trade Freedom', 'Investment Freedom ', 'Financial Freedom',\n",
       "       'Tariff Rate (%)', 'Income Tax Rate (%)', 'Corporate Tax Rate (%)',\n",
       "       'Tax Burden % of GDP', 'Gov't Expenditure % of GDP ', 'Country',\n",
       "       'Population (Millions)', 'GDP (Billions, PPP)', 'GDP Growth Rate (%)',\n",
       "       '5 Year GDP Growth Rate (%)', 'GDP per Capita (PPP)',\n",
       "       'Unemployment (%)', 'Inflation (%)', 'FDI Inflow (Millions)',\n",
       "       'Public Debt (% of GDP)'],\n",
       "      dtype='object')"
      ]
     },
     "execution_count": 6,
     "metadata": {},
     "output_type": "execute_result"
    }
   ],
   "source": [
    "# First figure out which columns we want to include.\n",
    "data.columns"
   ]
  },
  {
   "cell_type": "markdown",
   "metadata": {},
   "source": [
    "From the above columns, it seems like a good starting point for looking at the correlation is to look at the correlation between everything except the following columns:\n",
    "\n",
    "- CountryID\n",
    "- Country Name\n",
    "- WEBNAME\n",
    "- Region\n",
    "- Region Rank\n",
    "- World Rank\n",
    "\n",
    "However, before proceeding, we convert any string data into numerical data (such as GDP information). This needs to be done, otherwise we won't be able to look at that columns correlation with the freedom index score. This is done below:"
   ]
  },
  {
   "cell_type": "code",
   "execution_count": 7,
   "metadata": {},
   "outputs": [
    {
     "data": {
      "text/plain": [
       "Index(['Country Name', 'WEBNAME', 'Region', 'Country', 'Population (Millions)',\n",
       "       'GDP (Billions, PPP)', 'GDP per Capita (PPP)', 'Unemployment (%)',\n",
       "       'FDI Inflow (Millions)'],\n",
       "      dtype='object')"
      ]
     },
     "execution_count": 7,
     "metadata": {},
     "output_type": "execute_result"
    }
   ],
   "source": [
    "# Check which columns contain non-numerical data\n",
    "data.select_dtypes(exclude='number').columns"
   ]
  },
  {
   "cell_type": "markdown",
   "metadata": {},
   "source": [
    "From the above, we see that non-numerical data of interest are the population, GDP, GDP per capita, unemployment, and FDI inflow. To get a sense of what conversions we need to do, we display the pertinent information below:"
   ]
  },
  {
   "cell_type": "code",
   "execution_count": 8,
   "metadata": {},
   "outputs": [
    {
     "data": {
      "text/html": [
       "<div>\n",
       "<style scoped>\n",
       "    .dataframe tbody tr th:only-of-type {\n",
       "        vertical-align: middle;\n",
       "    }\n",
       "\n",
       "    .dataframe tbody tr th {\n",
       "        vertical-align: top;\n",
       "    }\n",
       "\n",
       "    .dataframe thead th {\n",
       "        text-align: right;\n",
       "    }\n",
       "</style>\n",
       "<table border=\"1\" class=\"dataframe\">\n",
       "  <thead>\n",
       "    <tr style=\"text-align: right;\">\n",
       "      <th></th>\n",
       "      <th>Population (Millions)</th>\n",
       "      <th>GDP (Billions, PPP)</th>\n",
       "      <th>GDP per Capita (PPP)</th>\n",
       "      <th>Unemployment (%)</th>\n",
       "      <th>FDI Inflow (Millions)</th>\n",
       "    </tr>\n",
       "  </thead>\n",
       "  <tbody>\n",
       "    <tr>\n",
       "      <th>0</th>\n",
       "      <td>35.5</td>\n",
       "      <td>$69.6</td>\n",
       "      <td>$1,958</td>\n",
       "      <td>8.8</td>\n",
       "      <td>53.9</td>\n",
       "    </tr>\n",
       "  </tbody>\n",
       "</table>\n",
       "</div>"
      ],
      "text/plain": [
       "  Population (Millions) GDP (Billions, PPP) GDP per Capita (PPP)  \\\n",
       "0                  35.5              $69.6                $1,958   \n",
       "\n",
       "  Unemployment (%) FDI Inflow (Millions)  \n",
       "0              8.8                  53.9  "
      ]
     },
     "execution_count": 8,
     "metadata": {},
     "output_type": "execute_result"
    }
   ],
   "source": [
    "# Display non-numerical columns of interest.\n",
    "data[['Population (Millions)', 'GDP (Billions, PPP)', 'GDP per Capita (PPP)', 'Unemployment (%)', 'FDI Inflow (Millions)']].head(1)"
   ]
  },
  {
   "cell_type": "code",
   "execution_count": 9,
   "metadata": {},
   "outputs": [
    {
     "data": {
      "text/plain": [
       "Population (Millions)    object\n",
       "GDP (Billions, PPP)      object\n",
       "GDP per Capita (PPP)     object\n",
       "Unemployment (%)         object\n",
       "FDI Inflow (Millions)    object\n",
       "dtype: object"
      ]
     },
     "execution_count": 9,
     "metadata": {},
     "output_type": "execute_result"
    }
   ],
   "source": [
    "# Print the data types for the above columns\n",
    "data[['Population (Millions)', 'GDP (Billions, PPP)', 'GDP per Capita (PPP)', 'Unemployment (%)', 'FDI Inflow (Millions)']].dtypes"
   ]
  },
  {
   "cell_type": "markdown",
   "metadata": {},
   "source": [
    "From the above two cells, we see that we need to convert all of the above to numerical data, being sure to first remove the dollar signs in front of the GDP information. This is done below:"
   ]
  },
  {
   "cell_type": "code",
   "execution_count": 10,
   "metadata": {},
   "outputs": [],
   "source": [
    "# Function to properly format the object info into a number with 2 decimal places.\n",
    "def convert_to_float(s):\n",
    "    \n",
    "    # Split and take the first word, in case of multiple words.\n",
    "    s = s.split()[0]\n",
    "    \n",
    "    # Only take numerical characters and decimal points.\n",
    "    s = \"\".join(c for c in s if c.isdigit() or c == '.')\n",
    "    \n",
    "    return round(float(s), 2)\n",
    "\n",
    "# Filter the data accordingly, being sure to remove null data.\n",
    "filtered_data = data.dropna(subset=['Population (Millions)', 'GDP (Billions, PPP)', 'GDP per Capita (PPP)', 'Unemployment (%)', 'FDI Inflow (Millions)']).copy()\n",
    "filtered_data['Population (Millions)'] = filtered_data['Population (Millions)'].astype(float)\n",
    "filtered_data['GDP (Billions, PPP)'] = filtered_data['GDP (Billions, PPP)'].apply(convert_to_float)\n",
    "filtered_data['GDP per Capita (PPP)'] = filtered_data['GDP per Capita (PPP)'].apply(convert_to_float)\n",
    "filtered_data['Unemployment (%)'] = filtered_data['Unemployment (%)'].astype(float)\n",
    "filtered_data['FDI Inflow (Millions)'] = filtered_data['FDI Inflow (Millions)'].apply(convert_to_float)"
   ]
  },
  {
   "cell_type": "markdown",
   "metadata": {},
   "source": [
    "Now that we have properly filtered data, we obtain the correlation information below:"
   ]
  },
  {
   "cell_type": "code",
   "execution_count": 11,
   "metadata": {},
   "outputs": [
    {
     "data": {
      "image/png": "[encoded data removed]",
      "text/plain": [
       "<Figure size 864x720 with 2 Axes>"
      ]
     },
     "metadata": {
      "needs_background": "light"
     },
     "output_type": "display_data"
    }
   ],
   "source": [
    "# Get the correlation data for everything excluding the aforementioned columns.\n",
    "corr_data = filtered_data[filtered_data.columns.difference(['CountryID', 'Country Name', 'WEBNAME', 'Region', 'Region Rank', 'World Rank'])]\n",
    "corr = corr_data.corr()\n",
    "fig, ax = plt.subplots(figsize=(12,10))\n",
    "ax.set_title(\"Economic Freedom Indicators Correlation Map\", fontsize=15)\n",
    "sns.heatmap(corr['2019 Score'].to_frame().sort_values(by='2019 Score', ascending=False), ax=ax, annot=True)\n",
    "plt.show()"
   ]
  },
  {
   "cell_type": "markdown",
   "metadata": {},
   "source": [
    "From the above heatmap, we see that the Freedom Index Score (2019 Score) is most strongly correlated with Property Rights, and has the strongest negative correlation with the Tarrif Rate. More generally, we see that a healthy, functioning government (as measured by property rights, business freedom, judicial effectiveness..) seems to be a strong predictor of a high score on the freedom index. This makes sense, given that the freedom index is likely some linear combination of freedom measures (Monetary Freedom, etc.). In addition, we see that GDP Per Capita is moderately correlated with the 2019 freedom index score, indicating that countries with more freedoms tend to be more wealthy.\n",
    "\n",
    "Next, we look at specific characteristics of countries with high, moderate, and low freedom index scores."
   ]
  },
  {
   "cell_type": "markdown",
   "metadata": {},
   "source": [
    "# Freedom Index Score - What Does It Mean?\n",
    "\n",
    "Here, we take a closer look at the characteristics of countries that rank high, moderate, and low on the freedom index. In particular, we look at the following:\n",
    "\n",
    "1. Average GDP Per capita\n",
    "2. Average 5 Year GDP Growth Rate\n",
    "\n",
    "We look at the above two metrics to get some sense of the health/growth of economies that fall into the aforementioned brackets. Before proceeding with this analysis, however, we need to determine what we precisely mean by a high/moderate/low freedom index score. To do this, we look at the median and IQR for freedom index score, and use this information to come up with dilineations for high/moderate/low scores:"
   ]
  },
  {
   "cell_type": "code",
   "execution_count": 12,
   "metadata": {},
   "outputs": [
    {
     "name": "stdout",
     "output_type": "stream",
     "text": [
      "0.25    53.95\n",
      "0.50    60.75\n",
      "0.75    67.80\n",
      "Name: 2019 Score, dtype: float64 \n",
      "\n",
      "Min score:  5.9\n",
      "Max score:  90.2\n"
     ]
    }
   ],
   "source": [
    "# Get the quartile information for freedom index scores (2019 score).\n",
    "quartiles = data['2019 Score'].quantile([0.25, 0.5, 0.75])\n",
    "min_score = data['2019 Score'].min()\n",
    "max_score = data['2019 Score'].max()\n",
    "print(quartiles, \"\\n\")\n",
    "print(\"Min score: \", min_score)\n",
    "print(\"Max score: \", max_score)"
   ]
  },
  {
   "cell_type": "code",
   "execution_count": 13,
   "metadata": {},
   "outputs": [
    {
     "data": {
      "image/png": "[encoded data removed]",
      "text/plain": [
       "<Figure size 432x288 with 1 Axes>"
      ]
     },
     "metadata": {
      "needs_background": "light"
     },
     "output_type": "display_data"
    }
   ],
   "source": [
    "# Box and whisker plot for illustration.\n",
    "score_boxplot = data.boxplot(column=['2019 Score'])"
   ]
  },
  {
   "cell_type": "markdown",
   "metadata": {},
   "source": [
    "From the above quartile values, we arbitrarily assign any freedom index score below or at 53.95 as low, any score in (53.95, 67.80] as moderate, and anything above 67.80 as high. Below, we create this new column for our dataset, clean up the gdp data, and then compute the aforementioned statistics:"
   ]
  },
  {
   "cell_type": "code",
   "execution_count": 24,
   "metadata": {},
   "outputs": [
    {
     "data": {
      "text/html": [
       "<div>\n",
       "<style scoped>\n",
       "    .dataframe tbody tr th:only-of-type {\n",
       "        vertical-align: middle;\n",
       "    }\n",
       "\n",
       "    .dataframe tbody tr th {\n",
       "        vertical-align: top;\n",
       "    }\n",
       "\n",
       "    .dataframe thead th {\n",
       "        text-align: right;\n",
       "    }\n",
       "</style>\n",
       "<table border=\"1\" class=\"dataframe\">\n",
       "  <thead>\n",
       "    <tr style=\"text-align: right;\">\n",
       "      <th></th>\n",
       "      <th>GDP per Capita (PPP)</th>\n",
       "      <th>5 Year GDP Growth Rate (%)</th>\n",
       "    </tr>\n",
       "    <tr>\n",
       "      <th>Score Category</th>\n",
       "      <th></th>\n",
       "      <th></th>\n",
       "    </tr>\n",
       "  </thead>\n",
       "  <tbody>\n",
       "    <tr>\n",
       "      <th>low</th>\n",
       "      <td>7462.32</td>\n",
       "      <td>2.78</td>\n",
       "    </tr>\n",
       "    <tr>\n",
       "      <th>moderate</th>\n",
       "      <td>15916.40</td>\n",
       "      <td>3.44</td>\n",
       "    </tr>\n",
       "    <tr>\n",
       "      <th>high</th>\n",
       "      <td>44838.00</td>\n",
       "      <td>2.90</td>\n",
       "    </tr>\n",
       "  </tbody>\n",
       "</table>\n",
       "</div>"
      ],
      "text/plain": [
       "                GDP per Capita (PPP)  5 Year GDP Growth Rate (%)\n",
       "Score Category                                                  \n",
       "low                          7462.32                        2.78\n",
       "moderate                    15916.40                        3.44\n",
       "high                        44838.00                        2.90"
      ]
     },
     "execution_count": 24,
     "metadata": {},
     "output_type": "execute_result"
    }
   ],
   "source": [
    "# Clean up GDP data.\n",
    "gdp_data = data.dropna(subset=['GDP per Capita (PPP)', '5 Year GDP Growth Rate (%)']).copy()\n",
    "gdp_data['GDP per Capita (PPP)'] = gdp_data['GDP per Capita (PPP)'].apply(convert_to_float)\n",
    "\n",
    "# Add new column\n",
    "gdp_data['Score Category'] = pd.cut(gdp_data['2019 Score'], [5.9, 53.95, 67.8, 90.2], labels = ['low', 'moderate', 'high'], include_lowest=True)\n",
    "\n",
    "# Compute summary statistics.\n",
    "table = gdp_data.groupby(['Score Category'])[['GDP per Capita (PPP)', '5 Year GDP Growth Rate (%)']].mean().round(2)\n",
    "table.reset_index().set_index('Score Category')"
   ]
  },
  {
   "cell_type": "markdown",
   "metadata": {},
   "source": [
    "From the above, we see that per our expectations, countries with a low freedom index score have the lowest gpd per capita, and countries with a high score have the highest gpd per capita. However, surprisingly, countries with a moderate freedom index score have the highest 5 year gdp growth rate. A visualization of this data is shown below:"
   ]
  },
  {
   "cell_type": "code",
   "execution_count": 31,
   "metadata": {},
   "outputs": [
    {
     "data": {
      "image/png": "[encoded data removed]",
      "text/plain": [
       "<Figure size 576x432 with 1 Axes>"
      ]
     },
     "metadata": {
      "needs_background": "light"
     },
     "output_type": "display_data"
    }
   ],
   "source": [
    "# Plot for GDP Per Capita\n",
    "gdp_per_capita = table['GDP per Capita (PPP)']\n",
    "ax1 = gdp_per_capita.plot(kind='bar', figsize=(8,6))\n",
    "ax1.set_title(\"GDP Per Capita Per Score Category\")\n",
    "ax1.set_ylabel(\"GDP Per Capita ($)\")\n",
    "plt.show()"
   ]
  },
  {
   "cell_type": "code",
   "execution_count": 32,
   "metadata": {},
   "outputs": [
    {
     "data": {
      "image/png": "[encoded data removed]",
      "text/plain": [
       "<Figure size 576x432 with 1 Axes>"
      ]
     },
     "metadata": {
      "needs_background": "light"
     },
     "output_type": "display_data"
    }
   ],
   "source": [
    "# Plot for GDP growth.\n",
    "gdp_growth_rate = table['5 Year GDP Growth Rate (%)']\n",
    "ax2 = gdp_growth_rate.plot(kind='bar', figsize=(8,6))\n",
    "ax2.set_title(\"GDP 5 Year Growth Rate Per Score Category\")\n",
    "ax2.set_ylabel(\"GDP Growth Rate (%)\")\n",
    "plt.show()"
   ]
  }
 ],
 "metadata": {
  "kernelspec": {
   "display_name": "Python 3",
   "language": "python",
   "name": "python3"
  },
  "language_info": {
   "codemirror_mode": {
    "name": "ipython",
    "version": 3
   },
   "file_extension": ".py",
   "mimetype": "text/x-python",
   "name": "python",
   "nbconvert_exporter": "python",
   "pygments_lexer": "ipython3",
   "version": "3.7.1"
  }
 },
 "nbformat": 4,
 "nbformat_minor": 2
}
